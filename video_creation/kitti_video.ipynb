{
 "cells": [
  {
   "cell_type": "code",
   "execution_count": null,
   "metadata": {
    "collapsed": true
   },
   "outputs": [],
   "source": [
    "import cv2\n",
    "import numpy as np\n",
    "import os\n",
    "import pandas as pd"
   ]
  },
  {
   "cell_type": "code",
   "execution_count": null,
   "metadata": {},
   "outputs": [],
   "source": [
    "path = './data'\n",
    "video_format = cv2.VideoWriter_fourcc(*\"XVID\")\n",
    "\n",
    "directories = [ directory for directory in os.listdir(path) ]\n",
    "directories = sorted(directories)\n",
    "\n",
    "for directory in directories:\n",
    "    \n",
    "    label = pd.read_csv('label_02/'+ str(directory) +'.txt',' ',\n",
    "                   names = ['1','2','3','4','5','6','7','8','9','10','11','12','13','14','15','16','17'] )\n",
    "    label = label[['1','2','3','7','8','9','10']]\n",
    "    \n",
    "    file_path = os.path.join(path, directory)\n",
    "    file_name = [ name for name in os.listdir(file_path) ]\n",
    "    file_name = sorted(file_name)\n",
    "    # to get height and width\n",
    "    dimensions = cv2.imread(os.path.join(file_path, file_name[0]),0)\n",
    "    width = dimensions.shape[1]\n",
    "    height = dimensions.shape[0]\n",
    "    \n",
    "    i = 0\n",
    "    write_path =  os.path.join('./video', str(directory)+'.avi')\n",
    "    writer = cv2.VideoWriter(write_path, video_format, 10.0, (600, height-150)) #width\n",
    "    write_path_GT =  os.path.join('./video', str(directory)+'_GT'+'.avi')\n",
    "    writer_GT = cv2.VideoWriter(write_path_GT, video_format, 10.0, (600, height-150)) #width\n",
    "    for num,f in enumerate(file_name):\n",
    "        img = cv2.imread(os.path.join(file_path, f),1)\n",
    "        img_GT = np.zeros(img.shape, np.uint8)\n",
    "        while i<len(label) and label.at[i,'1'] == num:\n",
    "            name = label.at[i,'3']\n",
    "            if label.at[i,'2'] !=-1 and name == 'Car':\n",
    "                cv2.rectangle(img_GT,(int(label.at[i,'7']), int(label.at[i,'8'])),\n",
    "                          (int(label.at[i,'9']), int(label.at[i,'10'])), (0,255,0), -1)\n",
    "            i += 1\n",
    "        \n",
    "        img_GT = img_GT[150:,300:900,:]\n",
    "        img = img[150:,300:900,:]\n",
    "        writer.write(img)\n",
    "        writer_GT.write(img_GT)\n",
    "\n",
    "writer.release()\n",
    "writer_GT.release()"
   ]
  },
  {
   "cell_type": "code",
   "execution_count": null,
   "metadata": {
    "collapsed": true
   },
   "outputs": [],
   "source": []
  }
 ],
 "metadata": {
  "kernelspec": {
   "display_name": "Python 2",
   "language": "python",
   "name": "python2"
  },
  "language_info": {
   "codemirror_mode": {
    "name": "ipython",
    "version": 2
   },
   "file_extension": ".py",
   "mimetype": "text/x-python",
   "name": "python",
   "nbconvert_exporter": "python",
   "pygments_lexer": "ipython2",
   "version": "2.7.11"
  }
 },
 "nbformat": 4,
 "nbformat_minor": 2
}
